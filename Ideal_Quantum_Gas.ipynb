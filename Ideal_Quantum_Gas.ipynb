{
 "cells": [
  {
   "cell_type": "code",
   "execution_count": 41,
   "id": "2448f635-3104-40a0-8005-638f9232986d",
   "metadata": {},
   "outputs": [],
   "source": [
    "import numpy as np\n",
    "from matplotlib import pyplot as plt\n",
    "import scipy as sp"
   ]
  },
  {
   "cell_type": "markdown",
   "id": "fb876221-87d9-430a-936c-2498828fc954",
   "metadata": {},
   "source": [
    "# Problema:"
   ]
  },
  {
   "cell_type": "markdown",
   "id": "dcab5951-faf4-4eb2-91c0-e290c9c41937",
   "metadata": {},
   "source": [
    "Los electrones en un metal común como el aluminio se comportan como un gas ideal de\n",
    "Fermi. Considerando que la concentración de electrones en el aluminio es $n = 18,1 × 10^{22} cm^{−3}$, realice lo\n",
    "siguiente:"
   ]
  },
  {
   "cell_type": "markdown",
   "id": "35d1645f-29d6-44be-9e17-eef48e1fb85d",
   "metadata": {},
   "source": [
    "## (a) Calcule la energía de Fermi $ϵ_F$ . Su respuesta debe estar dada en eV"
   ]
  },
  {
   "cell_type": "markdown",
   "id": "292f3c6d-8470-4fa7-a78b-3bde3502a0b9",
   "metadata": {},
   "source": [
    "Primero defino constantes:"
   ]
  },
  {
   "cell_type": "code",
   "execution_count": 42,
   "id": "2d8a866c-2bd6-4cca-af63-6a0efa786d48",
   "metadata": {},
   "outputs": [],
   "source": [
    "h = 1.054571817e-34      # Constante de Planck (J*s)\n",
    "m = 9.1093837015e-31    # Masa de la partícula (Kg)\n",
    "n = 18.1e22 * 1e6       # Concentración de electrones (m^{-3})\n",
    "s = 1/2                 # Spín de la partícula\n",
    "gamma = 2*s + 1\n",
    "\n",
    "k_B = 1.380649e-23      # Constante de Boltzmann (J/K)"
   ]
  },
  {
   "cell_type": "markdown",
   "id": "a5bd2102-059e-4619-8960-6a8a06923555",
   "metadata": {},
   "source": [
    "Calculamos $\\epsilon_F$ con:\n",
    "$$\n",
    "    \\epsilon_F = \\frac{\\hbar^2}{2m} \\left( \\frac{6\\pi^2 n}{\\gamma} \\right)^{2/3}\n",
    "$$"
   ]
  },
  {
   "cell_type": "code",
   "execution_count": 43,
   "id": "bd3fa9c6-8f2b-4af2-87ea-851969ef3486",
   "metadata": {},
   "outputs": [
    {
     "name": "stdout",
     "output_type": "stream",
     "text": [
      " 11.67 eV\n"
     ]
    }
   ],
   "source": [
    "e_F = ( (h**2) / (2*m) ) * (( (6 * np.pi**2 *n) / gamma) ** (2/3))\n",
    "print(f\" {e_F / 1.60218e-19:.2f} eV\")"
   ]
  },
  {
   "cell_type": "markdown",
   "id": "d35d4df1-75eb-48a8-90b9-aefb73201d8f",
   "metadata": {},
   "source": [
    "## (b) Calcule la temperatura de Fermi $T_F$ . Su respuesta debe estar dada en Kelvin"
   ]
  },
  {
   "cell_type": "markdown",
   "id": "dc536d4c-a52d-496d-92fc-23ab4a0acb17",
   "metadata": {},
   "source": [
    "Sabemos que:\n",
    "$$\n",
    "    T_F = \\frac{\\epsilon_F}{k_B}\n",
    "$$\n",
    "Entonces:"
   ]
  },
  {
   "cell_type": "code",
   "execution_count": 44,
   "id": "5874e124-8ad1-4e32-be6b-93c5d7903a38",
   "metadata": {},
   "outputs": [
    {
     "name": "stdout",
     "output_type": "stream",
     "text": [
      " 135399.30 K\n"
     ]
    }
   ],
   "source": [
    "T_F = e_F / k_B\n",
    "\n",
    "print(f\" {T_F:.2f} K\")"
   ]
  },
  {
   "cell_type": "markdown",
   "id": "3b860baf-2b3b-4bf3-b2c1-dce63478d00a",
   "metadata": {},
   "source": [
    "## (c) Calcule la presión de Fermi $P_F$ . Su respuesta debe estar dada en GPa"
   ]
  },
  {
   "cell_type": "markdown",
   "id": "ea3a19d2-5f84-4d52-a493-e56ce28fb43e",
   "metadata": {},
   "source": [
    "Sabemos que:\n",
    "$$\n",
    "    P_F = \\frac{2}{5} n \\epsilon_F\n",
    "$$\n",
    "Entonces:"
   ]
  },
  {
   "cell_type": "code",
   "execution_count": 45,
   "id": "7eedba6f-42f8-467e-9d88-ab41a8ab52cf",
   "metadata": {},
   "outputs": [
    {
     "name": "stdout",
     "output_type": "stream",
     "text": [
      " 135.34 GPa\n"
     ]
    }
   ],
   "source": [
    "P_F = (2/5) * n * e_F # Joules/m^3, es decir, Pascales\n",
    "P_F_GPa = P_F * 1e-9\n",
    "print(f\" {P_F_GPa:.2f} GPa\")"
   ]
  },
  {
   "cell_type": "markdown",
   "id": "00d4d8da-2ddf-4028-9656-8e583f9f7eff",
   "metadata": {},
   "source": [
    "## (d) ¿Cómo se compara su respuesta en (c) con la presión en el centro de la Tierra (∼ 365 GPa)?"
   ]
  },
  {
   "cell_type": "code",
   "execution_count": 28,
   "id": "a4e1c92f-0a1c-425a-a1f0-c98d4a8c3c75",
   "metadata": {},
   "outputs": [
    {
     "name": "stdout",
     "output_type": "stream",
     "text": [
      "37.08 %\n"
     ]
    }
   ],
   "source": [
    "print(f\"{(P_F_GPa / 365) * 100:.2f} %\")"
   ]
  },
  {
   "cell_type": "markdown",
   "id": "3a345296-f627-4727-bf06-8be2588ba6f2",
   "metadata": {},
   "source": [
    "La presión de Fermi es aproximadamente ``37%`` de la presión en el centro de la Tierra"
   ]
  },
  {
   "cell_type": "markdown",
   "id": "50830292-58bb-4952-9790-20109276ea2c",
   "metadata": {},
   "source": [
    "## (e) Calcule el potencial químico $\\mu$ en el rango $0 ≤ T ≤ 2 T_F$ . Muestre sus resultados en una gráfica de $\\frac{μ}{ϵ_F}$ vs $\\frac{T}{T_F}$"
   ]
  },
  {
   "cell_type": "markdown",
   "id": "43360784-bc97-421c-86b3-3c0a9106f670",
   "metadata": {},
   "source": [
    "$$\n",
    "f_\\nu(z) = \\frac{1}{\\Gamma(\\nu)} \\int_0^\\infty dx \\frac{x^{\\nu-1}}{z^{-1} e^x + 1}\n",
    "$$"
   ]
  },
  {
   "cell_type": "code",
   "execution_count": 6,
   "id": "5fb4d495-cc25-4c23-a46a-0cc98ab0d319",
   "metadata": {},
   "outputs": [],
   "source": [
    "def f(nu, z):\n",
    "    def Integrando(x):\n",
    "        return np.power(x, nu-1) / ((1/z)*np.exp(x) + 1)\n",
    "    \n",
    "    return (1 / sp.special.gamma(nu) ) * sp.integrate.quad(Integrando, 0, np.inf)[0]"
   ]
  },
  {
   "cell_type": "markdown",
   "id": "808c3661-89db-4cf3-a8df-ec31cea4da02",
   "metadata": {},
   "source": [
    "$$\n",
    "\\begin{aligned}\n",
    "\\frac{n\\lambda^3}{\\gamma} = f_{3/2}(z) \\hspace{1cm} &; \\hspace{1cm} \\lambda^3 = \\left(\\frac{2\\pi \\hbar^2}{mk_BT}\\right)^{\\frac{3}{2}} \\hspace{1cm} \\\\\n",
    "\\\\\n",
    "\\Rightarrow \\hspace{1cm} \\left(\\frac{2\\pi \\hbar^2}{mk_BT}\\right)^{\\frac{3}{2}} = \\frac{\\gamma}{n} f_{3/2}(z) \\hspace{1cm}\n",
    "&\\Rightarrow \\hspace{1cm} T(z) = \\left(\\frac{2\\pi \\hbar^2}{mk_B}\\right) \\left(\\frac{\\gamma}{n} f_{3/2}(z)\\right)^{-\\frac{2}{3}}\n",
    "\\end{aligned}\n",
    "$$"
   ]
  },
  {
   "cell_type": "code",
   "execution_count": 7,
   "id": "ab2b1e2a-686b-449b-9b09-ccdbd75238c4",
   "metadata": {},
   "outputs": [],
   "source": [
    "def T(z):\n",
    "    \n",
    "    return ((2*np.pi*h**2) / (m*k_B)) * np.power((gamma/n) * f(3/2, z), -2/3)"
   ]
  },
  {
   "cell_type": "markdown",
   "id": "18c68338-f220-47b8-b514-d0adb79962ec",
   "metadata": {},
   "source": [
    "$$\n",
    "\\mu = k_B T(z) ln(z)\n",
    "$$"
   ]
  },
  {
   "cell_type": "code",
   "execution_count": 19,
   "id": "42b71c45-7af2-443c-a1dc-3e8db0f547cb",
   "metadata": {},
   "outputs": [
    {
     "name": "stderr",
     "output_type": "stream",
     "text": [
      "/tmp/ipykernel_407486/216657593.py:3: RuntimeWarning: overflow encountered in exp\n",
      "  return np.power(x, nu-1) / ((1/z)*np.exp(x) + 1)\n"
     ]
    },
    {
     "data": {
      "image/png": "[encoded data removed]",
      "text/plain": [
       "<Figure size 640x480 with 1 Axes>"
      ]
     },
     "metadata": {},
     "output_type": "display_data"
    }
   ],
   "source": [
    "z_set = np.linspace(0.29,1000,3000) # Discretizo la fugacidad, el rango se eligió de forma que la temperatura estuviera entre 0 y 2T_F\n",
    "\n",
    "T_aux = [T(z)/T_F for z in z_set] # Asocio a cada fugacidad una temperatura\n",
    "\n",
    "mu = [k_B * T(z) * np.log(z) * (1/e_F) for z in z_set] # Asocio a cada valor de temperatura un potencial químico\n",
    "\n",
    "plt.figure()\n",
    "\n",
    "plt.plot(T_aux, mu)\n",
    "\n",
    "plt.xlabel(r\"$T/T_F$\", fontsize=15)\n",
    "plt.ylabel(r\"$\\mu / \\epsilon_F$\", fontsize=15)\n",
    "\n",
    "plt.show()"
   ]
  },
  {
   "cell_type": "markdown",
   "id": "f91bfcb6-08a9-4498-95b0-bffcedd26a70",
   "metadata": {},
   "source": [
    "## (f) Calcule la presión P en el rango $0 ≤ T ≤ 2T_F$. Muestre sus resultados en una gráfica de $\\frac{P}{P_F}$ vs $\\frac{T}{T_F}$ "
   ]
  },
  {
   "cell_type": "markdown",
   "id": "8d797322-34cd-4222-8010-5f35f25daa15",
   "metadata": {},
   "source": [
    "$$\n",
    "\\frac{P}{k_BT} = \\frac{\\gamma}{\\lambda^3}f_{5/2}(z) \\hspace{1cm} \\Rightarrow \\hspace{1cm} P = \\left(\\frac{2\\pi \\hbar^2}{mk_BT}\\right)^{-\\frac{3}{2}}  \\gamma k_BT f_{5/2}(z)\n",
    "$$"
   ]
  },
  {
   "cell_type": "code",
   "execution_count": 40,
   "id": "1621d62a-76a5-4162-bbac-ea3c57137e50",
   "metadata": {},
   "outputs": [
    {
     "name": "stderr",
     "output_type": "stream",
     "text": [
      "/tmp/ipykernel_407486/216657593.py:3: RuntimeWarning: overflow encountered in exp\n",
      "  return np.power(x, nu-1) / ((1/z)*np.exp(x) + 1)\n"
     ]
    },
    {
     "data": {
      "image/png": "[encoded data removed]",
      "text/plain": [
       "<Figure size 640x480 with 1 Axes>"
      ]
     },
     "metadata": {},
     "output_type": "display_data"
    }
   ],
   "source": [
    "z_set = np.linspace(0.29,10000,3000) # Discretizo la fugacidad, el rango se eligió de forma que la temperatura estuviera entre 0 y 2T_F\n",
    "\n",
    "T_aux = [T(z)/T_F for z in z_set] # Asocio a cada fugacidad una temperatura\n",
    "\n",
    "P_aux = [(1/P_F)*np.power((2*np.pi*h**2) / (m*k_B*T(z)), -3/2) * (gamma * k_B * T(z)) * f(5/2, z) for z in z_set] # Asocio a cada valor de temperatura una presión\n",
    "\n",
    "plt.figure()\n",
    "\n",
    "plt.plot(T_aux, P_aux)\n",
    "\n",
    "plt.xlabel(r\"$T/T_F$\", fontsize=15)\n",
    "plt.ylabel(r\"$P / P_F$\", fontsize=15)\n",
    "\n",
    "plt.show()"
   ]
  }
 ],
 "metadata": {
  "kernelspec": {
   "display_name": "Python 3 (ipykernel)",
   "language": "python",
   "name": "python3"
  },
  "language_info": {
   "codemirror_mode": {
    "name": "ipython",
    "version": 3
   },
   "file_extension": ".py",
   "mimetype": "text/x-python",
   "name": "python",
   "nbconvert_exporter": "python",
   "pygments_lexer": "ipython3",
   "version": "3.12.7"
  }
 },
 "nbformat": 4,
 "nbformat_minor": 5
}
